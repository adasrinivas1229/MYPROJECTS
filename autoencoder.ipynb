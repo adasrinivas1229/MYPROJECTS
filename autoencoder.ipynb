{
  "nbformat": 4,
  "nbformat_minor": 0,
  "metadata": {
    "colab": {
      "name": "mytest1.ipynb",
      "provenance": [],
      "authorship_tag": "ABX9TyO+jDDDeBGx/fDu9f4kftTb",
      "include_colab_link": true
    },
    "kernelspec": {
      "name": "python3",
      "display_name": "Python 3"
    }
  },
  "cells": [
    {
      "cell_type": "markdown",
      "metadata": {
        "id": "view-in-github",
        "colab_type": "text"
      },
      "source": [
        "<a href=\"https://colab.research.google.com/github/adasrinivas1229/MYPROJECTS/blob/master/autoencoder.ipynb\" target=\"_parent\"><img src=\"https://colab.research.google.com/assets/colab-badge.svg\" alt=\"Open In Colab\"/></a>"
      ]
    },
    {
      "cell_type": "code",
      "metadata": {
        "id": "rfz_gKj_us0R",
        "colab_type": "code",
        "colab": {
          "base_uri": "https://localhost:8080/",
          "height": 101
        },
        "outputId": "cb75a47a-5935-4ff7-e7ee-d7b14302d93e"
      },
      "source": [
        "import os\n",
        "os.environ['TF_CPP_MIN_LOG_LEVEL'] = '3' \n",
        "import numpy as np\n",
        "import tensorflow as tf\n",
        "from matplotlib import image\n",
        "import os\n",
        "\n",
        "#dataset download start\n",
        "\n",
        "from matplotlib import image\n",
        "import os\n",
        "zip_file_url = 'https://www.dropbox.com/s/y5jt5t06g1frzhc/datasets.zip?dl=1'\n",
        "\n",
        "import requests, zipfile, io\n",
        "r = requests.get(zip_file_url)\n",
        "z = zipfile.ZipFile(io.BytesIO(r.content))\n",
        "z.extractall()\n",
        "\n",
        "#dataset download end\n",
        "\n",
        "np.random.seed(1)\n",
        "tf.random.set_seed(1)\n",
        "\n",
        "\n",
        "class Encoder(tf.keras.layers.Layer):\n",
        "  def __init__(self, intermediate_dim):\n",
        "    super(Encoder, self).__init__()\n",
        "    # Start your code here...\n",
        "    self.hidden_layer1 = tf.keras.layers.Dense( units=intermediate_dim, \\\n",
        "      activation=tf.nn.relu, \\\n",
        "      kernel_initializer='he_uniform' \\\n",
        "    )                   # Create dense layer with units: intermediate_dim, relu, initialize kernal with zeros\n",
        "    self.hidden_layer2 = tf.keras.layers.Dense(units=intermediate_dim//2, \\\n",
        "      activation=tf.nn.relu,    \\\n",
        "      kernel_initializer='he_uniform' \\\n",
        "    )                   # Create second hidden layer as dense layer with half of the units of previous layer and relu. initialize with zeros\n",
        "    self.output_layer = tf.keras.layers.Dense( \\\n",
        "      units=intermediate_dim/4, \\\n",
        "      activation=tf.nn.sigmoid \\\n",
        "    )                  # Create the output layer as dense with intermidiate_dim/4 with sigmoid activation\n",
        "      \n",
        "    #End your code here...\n",
        "    \n",
        "  def call(self, input_features):\n",
        "    activation = self.hidden_layer1(input_features)  # Define the sequence of execution of layers \n",
        "    activation1 = self.hidden_layer2(activation)\n",
        "    return self.output_layer(activation1)\n",
        "\n",
        "\n",
        "encoder = Encoder(intermediate_dim=12)\n",
        "#code1 = encoder(tf.constant([[1,2],[3,4]]))\n",
        "#code2 = encoder(tf.constant([[1,2,3],[4,5,6],[7,8,9]]))\n",
        "code3 = encoder(tf.constant([[1,2,3,0],[4,5,6,0],[7,8,9,0],[0,0,0,0]]))\n",
        "print((code3))"
      ],
      "execution_count": 1,
      "outputs": [
        {
          "output_type": "stream",
          "text": [
            "tf.Tensor(\n",
            "[[0.6592159  0.6510394  0.2087203 ]\n",
            " [0.8142745  0.8171847  0.0332126 ]\n",
            " [0.91268635 0.91529906 0.00466821]\n",
            " [0.5        0.5        0.5       ]], shape=(4, 3), dtype=float32)\n"
          ],
          "name": "stdout"
        }
      ]
    }
  ]
}